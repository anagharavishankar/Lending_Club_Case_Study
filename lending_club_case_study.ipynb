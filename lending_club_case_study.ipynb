{
 "cells": [
  {
   "cell_type": "markdown",
   "metadata": {},
   "source": [
    "# Lending Club Case Study"
   ]
  },
  {
   "cell_type": "markdown",
   "metadata": {},
   "source": [
    "## Problem Context"
   ]
  },
  {
   "cell_type": "markdown",
   "metadata": {},
   "source": [
    "#### The consumer finance company serves as the largest online loan platform, offering personal, business, and medical financing with easily accessible lower interest rates. Like other lenders, issuing loans to risky applicants is the primary cause of financial loss, termed credit loss, where 'charged-off' borrowers who default cause the most significant loss to lenders. This credit loss results from borrowers refusing to pay or disappearing with owed money, marking them as defaulters.\n"
   ]
  },
  {
   "cell_type": "markdown",
   "metadata": {},
   "source": [
    "## Objective and Goal"
   ]
  },
  {
   "cell_type": "markdown",
   "metadata": {},
   "source": [
    "#### To mitigate financial loss by utilizing Exploratory Data Analysis techniques to identify key factors driving loan defaults. Exploring how data analysis can reduce risky loan applicants."
   ]
  },
  {
   "cell_type": "markdown",
   "metadata": {},
   "source": [
    "## Business Understanding"
   ]
  },
  {
   "cell_type": "markdown",
   "metadata": {},
   "source": [
    "#### The bank's decision involves two types of risks:\n",
    "\n",
    "1. Denying the loan to an applicant likely to repay leads to lost business for the company.\n",
    "2. Approving the loan for an applicant unlikely to repay, essentially a potential defaulter, may result in financial loss for the company."
   ]
  },
  {
   "cell_type": "markdown",
   "metadata": {},
   "source": []
  }
 ],
 "metadata": {
  "language_info": {
   "name": "python"
  }
 },
 "nbformat": 4,
 "nbformat_minor": 2
}
